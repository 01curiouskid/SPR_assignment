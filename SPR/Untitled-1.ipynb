{
 "cells": [
  {
   "cell_type": "code",
   "execution_count": 10,
   "metadata": {},
   "outputs": [],
   "source": [
    "import pandas as pd\n",
    "import os\n",
    "import csv"
   ]
  },
  {
   "cell_type": "code",
   "execution_count": 11,
   "metadata": {},
   "outputs": [
    {
     "name": "stdout",
     "output_type": "stream",
     "text": [
      "Converted Class1.txt to Class1.csv\n",
      "Converted Class2.txt to Class2.csv\n",
      "Converted Class3.txt to Class3.csv\n",
      "All .txt files have been converted to .csv files.\n",
      "Converted class1.txt to class1.csv\n",
      "Converted class2.txt to class2.csv\n",
      "Converted class3.txt to class3.csv\n",
      "All .txt files have been converted to .csv files.\n"
     ]
    }
   ],
   "source": [
    "\n",
    "\n",
    "def convert_txt_to_csv(folder_path):\n",
    "    # List all files in the provided folder\n",
    "    for filename in os.listdir(folder_path):\n",
    "        # Check if the file is a .txt file\n",
    "        # print(filename)\n",
    "        if filename.endswith('.txt'):\n",
    "            txt_file_path = os.path.join(folder_path, filename)\n",
    "            \n",
    "            # Read the .txt file\n",
    "            with open(txt_file_path, 'r') as file:\n",
    "                lines = file.readlines()\n",
    "            \n",
    "            # Process each line by splitting based on space\n",
    "            data = [line.strip().split() for line in lines]\n",
    "            \n",
    "            # Prepare the .csv file name\n",
    "            csv_file_path = os.path.join(folder_path, filename.replace('.txt', '.csv'))\n",
    "            \n",
    "            # Write the processed data to a .csv file\n",
    "            with open(csv_file_path, 'w', newline='') as csvfile:\n",
    "                writer = csv.writer(csvfile)\n",
    "                writer.writerows(data)\n",
    "                \n",
    "            print(f\"Converted {filename} to {filename.replace('.txt', '.csv')}\")\n",
    "    \n",
    "    print(\"All .txt files have been converted to .csv files.\")\n",
    "\n",
    "# Example usage\n",
    "convert_txt_to_csv('Group13\\\\LS_Group13')\n",
    "convert_txt_to_csv('Group13\\\\rd_group13')\n",
    "\n"
   ]
  },
  {
   "cell_type": "code",
   "execution_count": 12,
   "metadata": {},
   "outputs": [
    {
     "name": "stdout",
     "output_type": "stream",
     "text": [
      "Converted Group13\\NLS_Group13.txt to Group13\\NLS_Group13.csv\n"
     ]
    }
   ],
   "source": [
    "filename='Group13\\\\NLS_Group13.txt'\n",
    "with open(filename, 'r') as file:\n",
    "    lines = file.readlines()\n",
    "\n",
    "# Process each line by splitting based   on space and storing in a list\n",
    "data = []\n",
    "for line in lines:\n",
    "    data.append(line.strip().split())  # Strip removes extra spaces/newlines\n",
    "\n",
    "# Write the processed data to a CSV file\n",
    "import csv\n",
    "\n",
    "with open(filename.replace('.txt', '.csv'), 'w', newline='') as csvfile:\n",
    "    writer = csv.writer(csvfile)\n",
    "    writer.writerows(data[1:])\n",
    "\n",
    "print(f\"Converted {filename} to {filename.replace('.txt', '.csv')}\")\n",
    "\n"
   ]
  },
  {
   "cell_type": "code",
   "execution_count": 13,
   "metadata": {},
   "outputs": [],
   "source": [
    "input_csv_path='Group13/NLS_Group13.txt'\n",
    "os.makedirs('Group13/NLS_Group13',exist_ok=True)\n",
    "with open(input_csv_path, 'r') as infile:\n",
    "    reader = list(csv.reader(infile))\n",
    "        # Split the data into two parts\n",
    "    data_part1 = reader[:1303]  # First 1303 rows\n",
    "    data_part2 = reader[1303:]   # Remaining rows\n",
    "    with open('Group13/NLS_Group13/class1.csv', 'w', newline='') as outfile1:\n",
    "        writer = csv.writer(outfile1)\n",
    "        writer.writerows(data_part1)\n",
    "\n",
    "    # Write the second part to output_csv2\n",
    "    with open('Group13/NLS_Group13/class2.csv', 'w', newline='') as outfile2:\n",
    "        writer = csv.writer(outfile2)\n",
    "        writer.writerows(data_part2)"
   ]
  },
  {
   "cell_type": "code",
   "execution_count": 14,
   "metadata": {},
   "outputs": [
    {
     "name": "stdout",
     "output_type": "stream",
     "text": [
      "Split Class1.csv into training and testing datasets.\n",
      "Split Class2.csv into training and testing datasets.\n",
      "Split Class3.csv into training and testing datasets.\n",
      "Split class1.csv into training and testing datasets.\n",
      "Split class2.csv into training and testing datasets.\n",
      "Split class1.csv into training and testing datasets.\n",
      "Split class2.csv into training and testing datasets.\n",
      "Split class3.csv into training and testing datasets.\n"
     ]
    }
   ],
   "source": [
    "\n",
    "def split_csv_file(folder_path, split_ratio):\n",
    "    # Iterate over all files in the folder\n",
    "    for filename in os.listdir(folder_path):\n",
    "        # Check if the file is a .csv file\n",
    "        if filename.endswith('.csv'):\n",
    "            input_csv_path = os.path.join(folder_path, filename)\n",
    "            \n",
    "            # Read the input CSV file using pandas to determine the number of rows\n",
    "            df = pd.read_csv(input_csv_path)\n",
    "            total_rows = df.shape[0]\n",
    "            \n",
    "            # Calculate the split index\n",
    "            split_row = int(split_ratio * total_rows)\n",
    "            \n",
    "            # Read the CSV data\n",
    "            with open(input_csv_path, 'r') as infile:\n",
    "                reader = list(csv.reader(infile))\n",
    "                \n",
    "                # Split the data into two parts\n",
    "                header = reader[0]\n",
    "                data_part1 = reader[:split_row+1]  # First part (including header)\n",
    "                data_part2 = reader[split_row+1:]  # Remaining part\n",
    "\n",
    "            # Create directories if they don't exist\n",
    "            test_path = os.path.join(folder_path, 'test')\n",
    "            train_path = os.path.join(folder_path, 'train')\n",
    "            os.makedirs(test_path, exist_ok=True)\n",
    "            os.makedirs(train_path, exist_ok=True)\n",
    "            \n",
    "            # Write the first part to train CSV\n",
    "            with open(os.path.join(train_path, filename), 'w', newline='') as outfile1:\n",
    "                writer = csv.writer(outfile1)\n",
    "                writer.writerows(data_part1)\n",
    "\n",
    "            # Write the second part to test CSV\n",
    "            with open(os.path.join(test_path, filename), 'w', newline='') as outfile2:\n",
    "                writer = csv.writer(outfile2)\n",
    "                writer.writerows(data_part2)\n",
    "\n",
    "            print(f\"Split {filename} into training and testing datasets.\")\n",
    "\n",
    "# Example usage\n",
    "split_csv_file('Group13/LS_Group13', split_ratio=0.7)\n",
    "split_csv_file('Group13/NLS_Group13', split_ratio=0.7)\n",
    "split_csv_file('Group13/rd_group13', split_ratio=0.7)\n"
   ]
  }
 ],
 "metadata": {
  "kernelspec": {
   "display_name": "Python 3",
   "language": "python",
   "name": "python3"
  },
  "language_info": {
   "codemirror_mode": {
    "name": "ipython",
    "version": 3
   },
   "file_extension": ".py",
   "mimetype": "text/x-python",
   "name": "python",
   "nbconvert_exporter": "python",
   "pygments_lexer": "ipython3",
   "version": "3.12.4"
  }
 },
 "nbformat": 4,
 "nbformat_minor": 2
}
